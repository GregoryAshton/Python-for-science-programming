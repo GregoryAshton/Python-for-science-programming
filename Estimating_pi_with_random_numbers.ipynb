{
 "cells": [
  {
   "cell_type": "markdown",
   "metadata": {},
   "source": [
    "# Astrophysics residential April 21\n",
    "\n",
    "This is a notebook about estimating the mathematical constant $\\pi$ with random numbers. \n",
    "\n",
    "## Setup\n",
    "\n",
    "The cell block below may look a bit ugly, sorry! It does the job of getting us set up and will help drawing some things later on. \n",
    "\n",
    "For now, all you need to do is click the \"play\" button on the left-hand side of the cell below, then scroll down to get started."
   ]
  },
  {
   "cell_type": "code",
   "execution_count": 1,
   "metadata": {},
   "outputs": [],
   "source": [
    "import matplotlib.pyplot as plt\n",
    "from random import random\n",
    "\n",
    "import matplotlib\n",
    "import matplotlib.pyplot as plt\n",
    "import matplotlib.patches\n",
    "\n",
    "\n",
    "class Square(object):\n",
    "    def __init__(self):\n",
    "        self.width = 1\n",
    "        self.height = 1\n",
    "        self.left = 0\n",
    "        self.bottom = 0\n",
    "        self.color = \"C0\"\n",
    "        self.transparency = 0.3\n",
    "\n",
    "    def contains(self, x, y):\n",
    "        left = self.left\n",
    "        right = left + self.width\n",
    "        bottom = self.bottom\n",
    "        top = bottom + self.height\n",
    "        if left < x < right and bottom < y < top:\n",
    "            return True\n",
    "        else:\n",
    "            return False\n",
    "\n",
    "    def draw(self, ax):\n",
    "        patch = matplotlib.patches.Rectangle(\n",
    "            (self.left, self.bottom),\n",
    "            self.width,\n",
    "            self.height,\n",
    "            alpha=self.transparency,\n",
    "            color=self.color,\n",
    "            zorder=-1000\n",
    "        )\n",
    "        ax.add_patch(patch)\n",
    "        return ax\n",
    "\n",
    "\n",
    "class Circle(object):\n",
    "    def __init__(self):\n",
    "        self.centrex = 0.5\n",
    "        self.centrey = 0.5\n",
    "        self.diameter = 1\n",
    "        self.radius = self.diameter / 2\n",
    "        self.color = \"C1\"\n",
    "        self.transparency = 0.3\n",
    "\n",
    "    def contains(self, x, y):\n",
    "        xp = x - self.centrex\n",
    "        yp = y - self.centrey\n",
    "        if xp ** 2 + yp ** 2 < self.radius ** 2:\n",
    "            return True\n",
    "        else:\n",
    "            return False\n",
    "\n",
    "    def draw(self, ax):\n",
    "        patch = matplotlib.patches.Circle(\n",
    "            (self.centrex, self.centrey),\n",
    "            self.radius,\n",
    "            alpha=self.transparency,\n",
    "            color=self.color,\n",
    "            zorder=-100\n",
    "        )\n",
    "        ax.add_patch(patch)\n",
    "        return ax\n",
    "\n",
    "\n",
    "def draw_square_and_circle(square, circle):\n",
    "    fig, ax = plt.subplots()\n",
    "    square.draw(ax)\n",
    "    circle.draw(ax)\n",
    "    ax.set_xlim(-0.2, 1.2)\n",
    "    ax.set_ylim(-0.2, 1.2)\n",
    "    ax.set_aspect(\"equal\")\n",
    "    ax.set_xlabel(\"x\")\n",
    "    ax.set_ylabel(\"y\")\n",
    "    return fig, ax\n",
    "\n",
    "\n",
    "square = Square()\n",
    "circle = Circle()\n",
    "\n",
    "%matplotlib inline"
   ]
  },
  {
   "cell_type": "markdown",
   "metadata": {},
   "source": [
    "# Calculating $\\pi$ with random numbers\n",
    "\n",
    "In this exersize, we are going to estimate the [mathematical constant $\\pi$](https://en.wikipedia.org/wiki/Pi)  using **random numbers**! First, we'll talk about random numbers are, then we'll talk about where $\\pi$ comes from, then we'll estimate it!\n",
    "\n",
    "## Random numbers\n",
    "\n",
    "Random numbers help is to simulate the world around us: from random fluctuations in the temperature to the shimmering lights from stars. \n",
    "\n",
    "### What are random numbers?\n",
    "\n",
    "A good example of a random number is the roll of a six-sided dice. If you roll it, you expect each number from 1 to 6 to come up about 1 time in 6. But, each roll is random!\n",
    "\n",
    "Let's write a function which virtually rolls a dice. To do this, we'll use the [`randint`](https://docs.python.org/3/library/random.html#random.randint) function from the `random` module in python."
   ]
  },
  {
   "cell_type": "code",
   "execution_count": null,
   "metadata": {},
   "outputs": [],
   "source": [
    "# Import the \"random\" functions from the \"random module\"\n",
    "from random import randint\n",
    "\n",
    "def roll_dice():\n",
    "    return randint(1, 6)"
   ]
  },
  {
   "cell_type": "markdown",
   "metadata": {},
   "source": [
    "Okay, we've created a function which returns a random roll of the dice, let's roll it a few times. The first column is the number of the dice, so it will read 0,1,2."
   ]
  },
  {
   "cell_type": "code",
   "execution_count": null,
   "metadata": {},
   "outputs": [],
   "source": [
    "for role in range(3):\n",
    "    print(role, roll_dice())"
   ]
  },
  {
   "cell_type": "markdown",
   "metadata": {},
   "source": [
    "### We need random numbers between 0 and 1\n",
    "\n",
    "To calculate $\\pi$, we need to draw random numbers between 0 and 1 (we'll see why in a bit). For this, we can use the [`uniform`](https://docs.python.org/3/library/random.html#random.uniform) function. First, let's import it:"
   ]
  },
  {
   "cell_type": "code",
   "execution_count": null,
   "metadata": {},
   "outputs": [],
   "source": [
    "# Import the \"random\" functions from the \"random module\"\n",
    "from random import uniform"
   ]
  },
  {
   "cell_type": "markdown",
   "metadata": {},
   "source": [
    "Okay, so let's find out what the `random` function does. \n",
    "\n",
    "**Execute the code below by pressing the play button or putting your cursor in the box and hitting Ctrl + Enter**"
   ]
  },
  {
   "cell_type": "code",
   "execution_count": null,
   "metadata": {},
   "outputs": [],
   "source": [
    "uniform(0, 1)"
   ]
  },
  {
   "cell_type": "markdown",
   "metadata": {},
   "source": [
    "If you execute the code above a few times, you'll see that it produces random numbers between 0 and 1. \n",
    "\n",
    "### How do we save these random numbers? \n",
    "\n",
    "To save the output from a function, we can assign it. Let's draw a random number using the `uniform` function and store it in a variable:"
   ]
  },
  {
   "cell_type": "code",
   "execution_count": null,
   "metadata": {},
   "outputs": [],
   "source": [
    "variable = uniform(0, 1)"
   ]
  },
  {
   "cell_type": "markdown",
   "metadata": {},
   "source": [
    "Now, the random number has been stored as `variable`, to see what it is, we can `print()` it!"
   ]
  },
  {
   "cell_type": "code",
   "execution_count": null,
   "metadata": {},
   "outputs": [],
   "source": [
    "print(variable)"
   ]
  },
  {
   "cell_type": "markdown",
   "metadata": {},
   "source": [
    "### How do we save lots of random numbers?\n",
    "\n",
    "We are going to need lots of random numbers. We don't really want to have lots of variables. Instead, we can save them to a `list()`!\n",
    "\n",
    "Let's repeat the code above 20 times and store the random numbers in a list:"
   ]
  },
  {
   "cell_type": "code",
   "execution_count": null,
   "metadata": {},
   "outputs": [],
   "source": [
    "# Create an empty list to store our results\n",
    "random_numbers = []\n",
    "\n",
    "for ii in range(20):\n",
    "    # The append method saves the output in the list random_numbers\n",
    "    random_numbers.append(uniform(0, 1))"
   ]
  },
  {
   "cell_type": "markdown",
   "metadata": {},
   "source": [
    "Okay, now let's check what the output looks like. Again, we will `print` the output:"
   ]
  },
  {
   "cell_type": "code",
   "execution_count": null,
   "metadata": {},
   "outputs": [],
   "source": [
    "print(random_numbers)"
   ]
  },
  {
   "cell_type": "markdown",
   "metadata": {},
   "source": [
    "Okay, that is a lot of random numbers!"
   ]
  },
  {
   "cell_type": "markdown",
   "metadata": {},
   "source": [
    "## Talking about $\\pi$\n",
    "\n",
    "To estimate $\\pi$, we are going to put a circle inside of a square! First, we need to recall some geometry.\n",
    "\n",
    "If we have a square with a side length of $d$, the area of the square is\n",
    "\n",
    "$$ A_{\\rm square} = d^{2}$$\n",
    "\n",
    "If a circle just fits inside the square, the circle will have a diameter of $d=1$ or, equivalently, a radius of $r=\\frac{1}{2}$. (Remember that $d=2r$). The area of the circle is then\n",
    "$$ A_{\\rm circle} = \\pi r^2 = \\pi\\left(\\frac{d}{2}\\right)^{2} $$\n",
    "\n",
    "Let's draw out circle of and square with $d=1$. The code below will draw these shapes"
   ]
  },
  {
   "cell_type": "code",
   "execution_count": null,
   "metadata": {},
   "outputs": [],
   "source": [
    "fig, ax = draw_square_and_circle(square, circle)\n",
    "fig.show()"
   ]
  },
  {
   "cell_type": "markdown",
   "metadata": {},
   "source": [
    "If we divide the area of the circle by the area of the square:\n",
    "\n",
    "$$ \\frac{A_{\\rm circle}}{A_{\\rm square}} = \\frac{\\pi}{4} $$\n",
    "\n",
    "In other words, the area of the blue + orange space in the figure above divided by the area of just the orange space is $\\pi / 4$. We can rearrange this equation to say that\n",
    "\n",
    "$$ \\pi = 4 \\frac{A_{\\rm circle}}{A_{\\rm square}} \\;\\;\\;\\;\\;\\;\\;\\;\\; (1)$$\n",
    "\n",
    "We'll use this equation later, so we've put a number (1) next to it so you can find it."
   ]
  },
  {
   "cell_type": "markdown",
   "metadata": {},
   "source": [
    "## Using random numbers to estimate $\\pi$\n",
    "\n",
    "Now, we are going to use random numbers to estimate the value of $\\pi$. To do this, we'll draw random numbers which either\n",
    "- Fall inside the circle\n",
    "- Do not fall inside the circle, but do fall inside the square\n",
    "\n",
    "### Drawing it out\n",
    "The program below draws 100 points and checks if they are inside (black stars) or outside (red crosses) the circle"
   ]
  },
  {
   "cell_type": "code",
   "execution_count": null,
   "metadata": {},
   "outputs": [],
   "source": [
    "# Draw the square and circle\n",
    "fig, ax = draw_square_and_circle(square, circle)\n",
    "\n",
    "# Draw 100 random points\n",
    "for ii in range(100):\n",
    "    xpoint = uniform(0, 1)\n",
    "    ypoint = uniform(0, 1)\n",
    "    if circle.contains(xpoint, ypoint):\n",
    "        # If the point falls inside the cicle, draw it as a black star\n",
    "        ax.scatter(xpoint, ypoint, color='k', marker='*')\n",
    "    else:\n",
    "        # If the point falls outside the cicle, draw it as a red cross\n",
    "        ax.scatter(xpoint, ypoint, color='red', marker='x')\n",
    "          \n",
    "fig.show()"
   ]
  },
  {
   "cell_type": "markdown",
   "metadata": {},
   "source": [
    "### The final count\n",
    "\n",
    "Now, we are ready. The code below repeats the steps above, but instead of drawing the points. It counts them using two variables `inside` and `outside`. Once it is done, it estimates by $\\pi$ by calculating\n",
    "\n",
    "$$ \\pi \\approx 4 \\times \\frac{N_{\\rm inside}}{N_{\\rm total}} $$\n",
    "\n",
    "Does this equation look familiar? It is like the equation (1) we derived above. But, we've replace $A_{\\rm circle}=N_{\\rm circle}$ with the number of points inside the circle and $A_{\\rm square}=N_{\\rm total}$ with the total number of points!\n",
    "\n",
    "Let's see if it works"
   ]
  },
  {
   "cell_type": "code",
   "execution_count": null,
   "metadata": {},
   "outputs": [],
   "source": [
    "# Total number of random points to draw\n",
    "Ntotal = 10000\n",
    "\n",
    "Ninside = 0\n",
    "Noutside = 0\n",
    "for ii in range(Ntotal):\n",
    "    xpoint = uniform(0, 1)\n",
    "    ypoint = uniform(0, 1)\n",
    "    if circle.contains(xpoint, ypoint):\n",
    "        Ninside = Ninside + 1\n",
    "    else:\n",
    "        Noutside = Noutside + 1\n",
    "\n",
    "pi_estimate = 4 * Ninside / Ntotal\n",
    "print(\"I estimate pi to be\", pi_estimate)"
   ]
  },
  {
   "cell_type": "markdown",
   "metadata": {},
   "source": [
    "Okay, that is close, but it isn't exactly $\\pi$ right? But, we did say we'd only estimate it."
   ]
  },
  {
   "cell_type": "markdown",
   "metadata": {},
   "source": [
    "### Improving the estimate\n",
    "\n",
    "We can improve the estimate by increase `Ntotal`. You can try this by hand by changing the variable in the cell above."
   ]
  },
  {
   "cell_type": "markdown",
   "metadata": {},
   "source": [
    "## Extension exersizes\n",
    "\n",
    "If you made it this far, well done! You completed the exercise and estimated $\\pi$. Here are some exersizes to try out your new `python ` skills:\n",
    "\n",
    "**1.** Turn the cell above into a function `estimate_pi` which returns an estimate of $\\pi$ for a fixed `Ntotal`. To get you started, there is a skeleton function below:"
   ]
  },
  {
   "cell_type": "code",
   "execution_count": null,
   "metadata": {},
   "outputs": [],
   "source": [
    "def estimate_pi(Ntotal):\n",
    "    # FILL IN HERE: calculate pi_estimate using the method above\n",
    "    return pi_estimate"
   ]
  },
  {
   "cell_type": "markdown",
   "metadata": {},
   "source": [
    "**2.** Write a `for` loop which changes `Ntotal` and estimates pi using your function above. Append the results to a list `estimates_of_pi`. Some skeleton code below should get you started"
   ]
  },
  {
   "cell_type": "code",
   "execution_count": null,
   "metadata": {},
   "outputs": [],
   "source": [
    "estimates_of_pi = []\n",
    "Ntotal_list = [500, 1000, 2000, 4000, 8000]\n",
    "for Ntotal in Ntotal_list:\n",
    "    # FILL IN HERE: Estimate pi using your estimate_pi code"
   ]
  },
  {
   "cell_type": "markdown",
   "metadata": {},
   "source": [
    "**3.** Plot your estimate of $\\pi$. If you have done the steps above, the code below will make a plot of your estimates of `pi` against the values of Ntotal. If it looks like a straight line, it may be because you haven't properly defined the function `estimate_pi`."
   ]
  },
  {
   "cell_type": "code",
   "execution_count": null,
   "metadata": {},
   "outputs": [],
   "source": [
    "plt.plot(Ntotal_list, estimates_of_pi, 'x')\n",
    "plt.show()"
   ]
  }
 ],
 "metadata": {
  "kernelspec": {
   "display_name": "Python 3",
   "language": "python",
   "name": "python3"
  },
  "language_info": {
   "codemirror_mode": {
    "name": "ipython",
    "version": 3
   },
   "file_extension": ".py",
   "mimetype": "text/x-python",
   "name": "python",
   "nbconvert_exporter": "python",
   "pygments_lexer": "ipython3",
   "version": "3.7.6"
  }
 },
 "nbformat": 4,
 "nbformat_minor": 5
}
